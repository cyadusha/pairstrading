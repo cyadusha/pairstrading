{
 "cells": [
  {
   "cell_type": "code",
   "execution_count": 75,
   "metadata": {
    "collapsed": true
   },
   "outputs": [],
   "source": [
    "import numpy as np\n",
    "import statsmodels.api as sm\n",
    "from statsmodels.tsa.stattools import coint\n",
    "from datetime import date, timedelta\n",
    "import pytz\n",
    "from collections import deque\n",
    "import math\n",
    "import talib"
   ]
  },
  {
   "cell_type": "code",
   "execution_count": 76,
   "metadata": {
    "collapsed": false
   },
   "outputs": [],
   "source": [
    "stock_x = 0\n",
    "stock_y = 0\n",
    "def initialize(context):\n",
    "    \n",
    "    global stock_x\n",
    "    global stock_y\n",
    "    \n",
    "    set_commission(commission.PerShare(cost=0.03, min_trade_cost=None))\n",
    "    set_slippage(slippage.FixedSlippage(spread=1.00))\n",
    "    stock_pairs = [(sid(32304), sid(33334)),\n",
    "                           (sid(27894),sid(32307))]\n",
    "    \n",
    "    pair = 2\n",
    "    \n",
    "    if pair == 1:\n",
    "        stock_x, stock_y = stock_pairs[0]\n",
    "    if pair == 2:\n",
    "        stock_x, stock_y = stock_pairs[1]\n",
    "    \n",
    "    context.initial_setup = False\n",
    "    context.entry_amount = 1000\n",
    "    context.entry_threshold = 1.5\n",
    "    context.exit_threshold = 0.0\n",
    "    context.lookback = 20\n",
    "    context.z_window = 20\n",
    "    context.adf_threshold = 0.05\n",
    "    \n",
    "\n",
    "    schedule_function(trade, date_rules.every_day(), time_rules.market_close(minutes=60))\n",
    "    set_symbol_lookup_date('2010-01-01')\n",
    "                          \n",
    "                        "
   ]
  },
  {
   "cell_type": "code",
   "execution_count": 77,
   "metadata": {
    "collapsed": false
   },
   "outputs": [],
   "source": [
    "def check_pair_status(x, y, context):\n",
    "    \n",
    "    if coint(x,y)[1] < context.adf_threshold:\n",
    "        return True\n",
    "    else:\n",
    "        return False"
   ]
  },
  {
   "cell_type": "code",
   "execution_count": 78,
   "metadata": {
    "collapsed": false
   },
   "outputs": [],
   "source": [
    "def build_model(context,data):\n",
    "    global stock_x\n",
    "    global stock_y\n",
    "    \n",
    "\n",
    "    x_history = data.history(stock_x, 'price', context.lookback, '1d')\n",
    "    y_history = data.history(stock_y, 'price', context.lookback, '1d')\n",
    "    x = np.array(x_history)\n",
    "    X = sm.add_constant(x)\n",
    "    y = np.array(y_history)\n",
    "    model = sm.OLS(y, X)\n",
    "    results = model.fit()\n",
    "    context.beta_1, context.const = results.params\n",
    "        \n",
    "    # Get y_hat\n",
    "    y_hat = context.beta_1 + context.const * x\n",
    "        \n",
    "    # Get the spread\n",
    "    spread = y - y_hat\n",
    "        \n",
    "    # Get standard deviation of spread\n",
    "    context.spread_std = np.std(spread)\n",
    "    \n",
    "    context.is_cointegrated = check_pair_status(x, y, context)"
   ]
  },
  {
   "cell_type": "code",
   "execution_count": 79,
   "metadata": {
    "collapsed": false
   },
   "outputs": [],
   "source": [
    "def get_current(context,data):\n",
    "    global stock_x\n",
    "    global stock_y\n",
    "    \n",
    "    current_spread = data.current(stock_y, 'price') - (context.beta_1 + context.const * data.current(stock_x, 'price'))\n",
    "    z_score = current_spread / context.spread_std\n",
    "    return current_spread, z_score\n"
   ]
  },
  {
   "cell_type": "code",
   "execution_count": 80,
   "metadata": {
    "collapsed": true
   },
   "outputs": [],
   "source": [
    "def trade (context, data):\n",
    "    global stock_x\n",
    "    global stock_y\n",
    "    \n",
    "    if get_open_orders(stock_x) or get_open_orders(stock_y):\n",
    "        return\n",
    "    \n",
    "    stock_x_price = data.current(stock_x, 'price')\n",
    "    stock_y_price = data.current(stock_y, 'price')\n",
    "    \n",
    "    if context.initial_setup == False:\n",
    "        build_model(context, data)\n",
    "        \n",
    "    current_spread, z_score = get_current(context, data)\n",
    "    \n",
    "    equilibrium = np.copysign(1, z_score)\n",
    "    \n",
    "    #Exit trade if the pair has reached equilibrium\n",
    "    if len(context.portfolio.positions) > 0 and np.any(equilibrium != context.entry_sign or abs(z_score) < context.exit_threshold):\n",
    "        order_target_percent(stock_x, 0)\n",
    "        order_target_percent(stock_y, 0)\n",
    "    #Enter trade  \n",
    "    if len(context.portfolio.positions) == 0:\n",
    "        #rebuild model\n",
    "        build_model(context,data)\n",
    "        get_current(context,data)\n",
    "        #check equilibrium\n",
    "        equilibrium = np.copysign(1, z_score)\n",
    "        #check for cointegration and spread\n",
    "        if (context.is_cointegrated and abs(z_score) >= context.entry_threshold):\n",
    "            #reset relationship to equilibrium\n",
    "            context.entry_sign = equilibrium\n",
    "            #compute shares and shares to buy\n",
    "            shares_x = round(context.entry_amount / stock_x_price, 0)\n",
    "            shares_y = round(context.entry_amount / stock_y_price, 0)\n",
    "            \n",
    "            order(stock_x,      equilibrium * shares_x)\n",
    "            order(stock_y, -1 * equilibrium * shares_y)\n",
    "            \n",
    "    \n",
    "    \n",
    "    \n",
    "    "
   ]
  }
 ],
 "metadata": {
  "kernelspec": {
   "display_name": "Python 2",
   "language": "python",
   "name": "python2"
  },
  "language_info": {
   "codemirror_mode": {
    "name": "ipython",
    "version": 2
   },
   "file_extension": ".py",
   "mimetype": "text/x-python",
   "name": "python",
   "nbconvert_exporter": "python",
   "pygments_lexer": "ipython2",
   "version": "2.7.12"
  }
 },
 "nbformat": 4,
 "nbformat_minor": 2
}